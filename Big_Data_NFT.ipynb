{
  "nbformat": 4,
  "nbformat_minor": 0,
  "metadata": {
    "colab": {
      "name": "Big-Data-NFT.ipynb",
      "provenance": [],
      "collapsed_sections": [],
      "include_colab_link": true
    },
    "kernelspec": {
      "display_name": "Python 3",
      "name": "python3"
    },
    "language_info": {
      "name": "python"
    }
  },
  "cells": [
    {
      "cell_type": "markdown",
      "metadata": {
        "id": "view-in-github",
        "colab_type": "text"
      },
      "source": [
        "<a href=\"https://colab.research.google.com/github/smithakolan/BarOrderApplication/blob/master/Big_Data_NFT.ipynb\" target=\"_parent\"><img src=\"https://colab.research.google.com/assets/colab-badge.svg\" alt=\"Open In Colab\"/></a>"
      ]
    },
    {
      "cell_type": "code",
      "metadata": {
        "id": "28idqlg-ZyXu"
      },
      "source": [
        "from IPython.display import HTML, display\n",
        "\n",
        "def set_css():\n",
        "  display(HTML('''\n",
        "  <style>\n",
        "    pre {\n",
        "        white-space: pre-wrap;\n",
        "    }\n",
        "  </style>\n",
        "  '''))\n",
        "get_ipython().events.register('pre_run_cell', set_css)"
      ],
      "execution_count": null,
      "outputs": []
    },
    {
      "cell_type": "code",
      "metadata": {
        "colab": {
          "base_uri": "https://localhost:8080/",
          "height": 17
        },
        "id": "8coEh_jcWRKN",
        "outputId": "30a5e0e0-4376-4634-aba2-8044b1ef551b"
      },
      "source": [
        "import requests\n",
        "\n",
        "params = (\n",
        "    ('limit', '1'),\n",
        ")\n",
        "\n",
        "response = requests.get('https://api.coinranking.com/v2/dapps', params=params)\n",
        "\n",
        "cryptoresponse = requests.get('https://api.coinranking.com/v2/markets', params=params)\n",
        "#cryptoresponse = requests.get('https://coinranking.com/dapp/cryptokitties', params=params)\n",
        "\n",
        "\n"
      ],
      "execution_count": null,
      "outputs": [
        {
          "output_type": "display_data",
          "data": {
            "text/html": [
              "\n",
              "  <style>\n",
              "    pre {\n",
              "        white-space: pre-wrap;\n",
              "    }\n",
              "  </style>\n",
              "  "
            ],
            "text/plain": [
              "<IPython.core.display.HTML object>"
            ]
          },
          "metadata": {}
        }
      ]
    },
    {
      "cell_type": "code",
      "metadata": {
        "id": "7t66imc9gZvV",
        "colab": {
          "base_uri": "https://localhost:8080/",
          "height": 71
        },
        "outputId": "32eaa5ae-45a4-4628-a533-68194eac3d68"
      },
      "source": [
        "import requests\n",
        "\n",
        "url = \"https://api.opensea.io/api/v1/collection/cryptokitties/stats\"\n",
        "\n",
        "headers = {\"Accept\": \"application/json\"}\n",
        "\n",
        "response = requests.request(\"GET\", url, headers=headers)\n",
        "\n",
        "print(response.text)"
      ],
      "execution_count": null,
      "outputs": [
        {
          "output_type": "display_data",
          "data": {
            "text/html": [
              "\n",
              "  <style>\n",
              "    pre {\n",
              "        white-space: pre-wrap;\n",
              "    }\n",
              "  </style>\n",
              "  "
            ],
            "text/plain": [
              "<IPython.core.display.HTML object>"
            ]
          },
          "metadata": {}
        },
        {
          "output_type": "display_data",
          "data": {
            "text/html": [
              "\n",
              "  <style>\n",
              "    pre {\n",
              "        white-space: pre-wrap;\n",
              "    }\n",
              "  </style>\n",
              "  "
            ],
            "text/plain": [
              "<IPython.core.display.HTML object>"
            ]
          },
          "metadata": {}
        },
        {
          "output_type": "stream",
          "name": "stdout",
          "text": [
            "{\"stats\":{\"one_day_volume\":2.45202706442973,\"one_day_change\":-0.024055517895169392,\"one_day_sales\":59.0,\"one_day_average_price\":0.041559780753046276,\"seven_day_volume\":12.5832269676899,\"seven_day_change\":0.21147659168407787,\"seven_day_sales\":406.0,\"seven_day_average_price\":0.030993169871157387,\"thirty_day_volume\":80.9199580187738,\"thirty_day_change\":-0.747272541370676,\"thirty_day_sales\":1798.0,\"thirty_day_average_price\":0.045005538386414794,\"total_volume\":69817.8649146021,\"total_sales\":771370.0,\"total_supply\":2009498.0,\"count\":2009498.0,\"num_owners\":109726,\"average_price\":0.09051151187445987,\"num_reports\":30,\"market_cap\":62280.71286975103,\"floor_price\":0.0}}\n"
          ]
        }
      ]
    },
    {
      "cell_type": "code",
      "metadata": {
        "id": "3jOZM-RegfPN",
        "colab": {
          "base_uri": "https://localhost:8080/",
          "height": 71
        },
        "outputId": "9a5e4ad2-0aa6-4a98-fa0c-56ef44bf473f"
      },
      "source": [
        "import requests\n",
        "\n",
        "url = \"https://api.opensea.io/api/v1/collection/doodles-official/stats\"\n",
        "\n",
        "headers = {\"Accept\": \"application/json\"}\n",
        "\n",
        "response = requests.request(\"GET\", url, headers=headers)\n",
        "\n",
        "print(response.text)"
      ],
      "execution_count": null,
      "outputs": [
        {
          "output_type": "display_data",
          "data": {
            "text/html": [
              "\n",
              "  <style>\n",
              "    pre {\n",
              "        white-space: pre-wrap;\n",
              "    }\n",
              "  </style>\n",
              "  "
            ],
            "text/plain": [
              "<IPython.core.display.HTML object>"
            ]
          },
          "metadata": {}
        },
        {
          "output_type": "stream",
          "name": "stdout",
          "text": [
            "{\"stats\":{\"one_day_volume\":1220.4361001,\"one_day_change\":0.18309421885779012,\"one_day_sales\":345.0,\"one_day_average_price\":3.5374959423188406,\"seven_day_volume\":3817.9599149112,\"seven_day_change\":2.5649536194457148,\"seven_day_sales\":1592.0,\"seven_day_average_price\":2.3982160269542714,\"thirty_day_volume\":12535.9454278295,\"thirty_day_change\":0.7668404233196332,\"thirty_day_sales\":7153.0,\"thirty_day_average_price\":1.7525437477742905,\"total_volume\":19631.0657694143,\"total_sales\":12016.0,\"total_supply\":9999.0,\"count\":9999.0,\"num_owners\":5153,\"average_price\":1.6337438223547187,\"num_reports\":1,\"market_cap\":23979.76205351576,\"floor_price\":2.9}}\n"
          ]
        }
      ]
    },
    {
      "cell_type": "code",
      "metadata": {
        "colab": {
          "base_uri": "https://localhost:8080/"
        },
        "id": "z0LXa5NKnkTe",
        "outputId": "288dffa2-4a96-4d95-f63a-b3c38337e406"
      },
      "source": [
        "url = 'https://api.opensea.io/api/v1/assets?order_direction=desc&offset=0&limit=20&collection=cryptokitties'\n",
        "headers = {\"Accept\": \"application/json\"}\n",
        "\n",
        "response = requests.request(\"GET\", url, headers=headers)\n",
        "\n",
        "print(response.text)"
      ],
      "execution_count": null,
      "outputs": [
        {
          "output_type": "error",
          "ename": "NameError",
          "evalue": "ignored",
          "traceback": [
            "\u001b[0;31m---------------------------------------------------------------------------\u001b[0m",
            "\u001b[0;31mNameError\u001b[0m                                 Traceback (most recent call last)",
            "\u001b[0;32m<ipython-input-1-33aaf60c29a9>\u001b[0m in \u001b[0;36m<module>\u001b[0;34m()\u001b[0m\n\u001b[1;32m      2\u001b[0m \u001b[0mheaders\u001b[0m \u001b[0;34m=\u001b[0m \u001b[0;34m{\u001b[0m\u001b[0;34m\"Accept\"\u001b[0m\u001b[0;34m:\u001b[0m \u001b[0;34m\"application/json\"\u001b[0m\u001b[0;34m}\u001b[0m\u001b[0;34m\u001b[0m\u001b[0;34m\u001b[0m\u001b[0m\n\u001b[1;32m      3\u001b[0m \u001b[0;34m\u001b[0m\u001b[0m\n\u001b[0;32m----> 4\u001b[0;31m \u001b[0mresponse\u001b[0m \u001b[0;34m=\u001b[0m \u001b[0mrequests\u001b[0m\u001b[0;34m.\u001b[0m\u001b[0mrequest\u001b[0m\u001b[0;34m(\u001b[0m\u001b[0;34m\"GET\"\u001b[0m\u001b[0;34m,\u001b[0m \u001b[0murl\u001b[0m\u001b[0;34m,\u001b[0m \u001b[0mheaders\u001b[0m\u001b[0;34m=\u001b[0m\u001b[0mheaders\u001b[0m\u001b[0;34m)\u001b[0m\u001b[0;34m\u001b[0m\u001b[0;34m\u001b[0m\u001b[0m\n\u001b[0m\u001b[1;32m      5\u001b[0m \u001b[0;34m\u001b[0m\u001b[0m\n\u001b[1;32m      6\u001b[0m \u001b[0mprint\u001b[0m\u001b[0;34m(\u001b[0m\u001b[0mresponse\u001b[0m\u001b[0;34m.\u001b[0m\u001b[0mtext\u001b[0m\u001b[0;34m)\u001b[0m\u001b[0;34m\u001b[0m\u001b[0;34m\u001b[0m\u001b[0m\n",
            "\u001b[0;31mNameError\u001b[0m: name 'requests' is not defined"
          ]
        }
      ]
    },
    {
      "cell_type": "code",
      "metadata": {
        "colab": {
          "base_uri": "https://localhost:8080/",
          "height": 105
        },
        "id": "q8-4rEkQcaqj",
        "outputId": "a9b290c3-96d6-4fdd-b86b-a814e8ab19c4"
      },
      "source": [
        "print(response.text)"
      ],
      "execution_count": null,
      "outputs": [
        {
          "output_type": "display_data",
          "data": {
            "text/html": [
              "\n",
              "  <style>\n",
              "    pre {\n",
              "        white-space: pre-wrap;\n",
              "    }\n",
              "  </style>\n",
              "  "
            ],
            "text/plain": [
              "<IPython.core.display.HTML object>"
            ]
          },
          "metadata": {}
        },
        {
          "output_type": "stream",
          "name": "stdout",
          "text": [
            "{\"status\":\"success\",\"stats\":{\"total\":18},\"data\":{\"stats\":{\"total\":18},\"dapps\":[{\"slug\":\"cryptokitties\",\"name\":\"CryptoKitties\",\"description\":\"Cryptokitties is a blockchain-based virtual game that allows players to adopt, raise, and trade the - according to CryptoKitties themselves - oh-so-adorable creatures. Each cat is unique and the one you own is actually 100% yours, secured on the blockchain.\",\"externalUrl\":\"https://www.cryptokitties.co\",\"websiteUrl\":\"https://www.cryptokitties.co\",\"image\":\"https://cdn.coinranking.com/dapp/cryptokitties.svg\",\"numberOfRegistries\":1,\"numberOfNfts\":86349,\"coinrankingUrl\":\"https://coinranking.com/dapp/cryptokitties\"}]}}\n"
          ]
        }
      ]
    },
    {
      "cell_type": "code",
      "metadata": {
        "colab": {
          "base_uri": "https://localhost:8080/",
          "height": 105
        },
        "id": "SW9tBAY9YzGO",
        "outputId": "1937190d-d14f-4692-963e-fab526f6f3fa"
      },
      "source": [
        "print(cryptoresponse.text)"
      ],
      "execution_count": null,
      "outputs": [
        {
          "output_type": "display_data",
          "data": {
            "text/html": [
              "\n",
              "  <style>\n",
              "    pre {\n",
              "        white-space: pre-wrap;\n",
              "    }\n",
              "  </style>\n",
              "  "
            ],
            "text/plain": [
              "<IPython.core.display.HTML object>"
            ]
          },
          "metadata": {}
        },
        {
          "output_type": "stream",
          "name": "stdout",
          "text": [
            "{\"status\":\"success\",\"data\":{\"stats\":{\"24hVolume\":\"124075896491.58362048176665544152\",\"total\":23270},\"markets\":[{\"uuid\":\"7SHNQDspoF\",\"rank\":1,\"base\":{\"uuid\":\"Qwsogvtv82FCd\",\"symbol\":\"BTC\"},\"quote\":{\"uuid\":\"HIVsRcGKkPFtW\",\"symbol\":\"USDT\"},\"exchange\":{\"name\":\"Crypto.com\",\"uuid\":\"84SYQYPi5D\",\"iconUrl\":\"https://cdn.coinranking.com/NyAQsixIU/crypto-com.svg\"},\"marketShare\":\"2.38\",\"price\":\"60611.40395479732968620787\",\"recommended\":true,\"btcPrice\":\"1.0073019468639461\",\"24hVolume\":\"2957241095.35212981396213911147\"}]}}\n"
          ]
        }
      ]
    }
  ]
}